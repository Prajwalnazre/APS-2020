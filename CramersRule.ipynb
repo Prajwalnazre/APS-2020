{
 "cells": [
  {
   "cell_type": "code",
   "execution_count": 3,
   "metadata": {},
   "outputs": [],
   "source": [
    "import numpy as np"
   ]
  },
  {
   "cell_type": "code",
   "execution_count": 5,
   "metadata": {},
   "outputs": [
    {
     "name": "stdout",
     "output_type": "stream",
     "text": [
      "a1 = 1\n",
      "b1 = 5\n",
      "c1 = 6\n",
      "d1 = 1\n",
      "a2 = -6\n",
      "b2 = 14\n",
      "c2 = 21\n",
      "d2 = 20\n",
      "a3 = 32\n",
      "b3 = 15\n",
      "c3 = 25\n",
      "d3 = 1\n"
     ]
    }
   ],
   "source": [
    "a1 = int(input(\"a1 = \"))\n",
    "b1 = int(input(\"b1 = \"))\n",
    "c1 = int(input(\"c1 = \"))\n",
    "d1 = int(input(\"d1 = \"))\n",
    "a2 = int(input(\"a2 = \"))\n",
    "b2 = int(input(\"b2 = \"))\n",
    "c2 = int(input(\"c2 = \"))\n",
    "d2 = int(input(\"d2 = \"))\n",
    "a3 = int(input(\"a3 = \"))\n",
    "b3 = int(input(\"b3 = \"))\n",
    "c3 = int(input(\"c3 = \"))\n",
    "d3 = int(input(\"d3 = \"))\n"
   ]
  },
  {
   "cell_type": "code",
   "execution_count": 9,
   "metadata": {},
   "outputs": [],
   "source": [
    "matrix = np.array([[a1,b1,c1],[a2,b2,c2],[a3,b3,c3]])\n",
    "\n",
    "#b = np.array([[6,1,1], [4, -2, 5], [2,8,7]])\n",
    "detm = np.linalg.det(matrix)\n"
   ]
  },
  {
   "cell_type": "code",
   "execution_count": 10,
   "metadata": {},
   "outputs": [],
   "source": [
    "ma = np.array([[d1,b1,c1],[d2,b2,c2],[d3,b3,c3]])\n",
    "da = np.linalg.det(ma)\n",
    "mb = np.array([[a1,d1,c1],[a2,d2,c2],[a3,d3,c3]])\n",
    "db = np.linalg.det(mb)\n",
    "mc = np.array([[a1,b1,d1],[a2,b2,d2],[a3,b3,d3]])\n",
    "dc = np.linalg.det(mc)"
   ]
  },
  {
   "cell_type": "code",
   "execution_count": 11,
   "metadata": {},
   "outputs": [
    {
     "name": "stdout",
     "output_type": "stream",
     "text": [
      "a = -0.7022900763358777\n",
      "b = -2.808069792802619\n",
      "c = 2.6237731733914935\n"
     ]
    }
   ],
   "source": [
    "a = da/detm\n",
    "print(\"a = \" + str(a))\n",
    "b = db/detm\n",
    "print(\"b = \" + str(b))\n",
    "c = dc/detm\n",
    "print(\"c = \" + str(c))\n"
   ]
  }
 ],
 "metadata": {
  "kernelspec": {
   "display_name": "Python 3",
   "language": "python",
   "name": "python3"
  },
  "language_info": {
   "codemirror_mode": {
    "name": "ipython",
    "version": 3
   },
   "file_extension": ".py",
   "mimetype": "text/x-python",
   "name": "python",
   "nbconvert_exporter": "python",
   "pygments_lexer": "ipython3",
   "version": "3.7.5"
  }
 },
 "nbformat": 4,
 "nbformat_minor": 2
}
