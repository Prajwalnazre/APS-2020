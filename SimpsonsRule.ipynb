{
 "cells": [
  {
   "cell_type": "code",
   "execution_count": 27,
   "metadata": {},
   "outputs": [],
   "source": [
    "import math as m\n",
    "import numpy as np"
   ]
  },
  {
   "cell_type": "code",
   "execution_count": 28,
   "metadata": {},
   "outputs": [
    {
     "name": "stdout",
     "output_type": "stream",
     "text": [
      "[4.  4.2 4.4 4.6 4.8 5.  5.2]\n"
     ]
    }
   ],
   "source": [
    "#Evaluate logx dx within limit 4 to 5.2\n",
    "\n",
    "lowerLim = 4\n",
    "upperLim = 5.2\n",
    "x = []\n",
    "noOfIntervals = 6\n",
    "interval = round((upperLim - lowerLim)/noOfIntervals, 5)\n",
    "x = np.array(x)\n",
    "x = np.arange(lowerLim, upperLim, interval)\n",
    "np.append(x, upperLim)\n",
    "print(x)"
   ]
  },
  {
   "cell_type": "code",
   "execution_count": 29,
   "metadata": {},
   "outputs": [],
   "source": [
    "def eqn(x):\n",
    "    x1 = m.log(x)\n",
    "    return x1"
   ]
  },
  {
   "cell_type": "code",
   "execution_count": 30,
   "metadata": {},
   "outputs": [
    {
     "name": "stdout",
     "output_type": "stream",
     "text": [
      "1.3862943611198906\n",
      "1.4350845252893227\n",
      "1.4816045409242156\n",
      "1.5260563034950494\n",
      "1.5686159179138455\n",
      "1.6094379124341005\n",
      "1.6486586255873819\n"
     ]
    }
   ],
   "source": [
    "y = []\n",
    "for i in range(len(x)):\n",
    "    a = eqn(x[i])\n",
    "    print(a)\n",
    "    y.append(a)"
   ]
  },
  {
   "cell_type": "code",
   "execution_count": 32,
   "metadata": {},
   "outputs": [
    {
     "name": "stdout",
     "output_type": "stream",
     "text": [
      "2.0476684080288035\n"
     ]
    }
   ],
   "source": [
    "#sum of odd placed y\n",
    "evenSum = 0\n",
    "oddSum = 0\n",
    "for i in range(len(y)):\n",
    "    if(i%2 == 0 and i != 0):\n",
    "        evenSum = evenSum + y[i]\n",
    "    if(i%2 == 1 and i != (len(y) - 1)):\n",
    "        oddSum = oddSum + y[i]\n",
    "\n",
    "result = (interval/3)*((y[0] + y[len(y) - 1]) + 4 * (oddSum) + 2 * evenSum)\n",
    "print(result)"
   ]
  }
 ],
 "metadata": {
  "kernelspec": {
   "display_name": "Python 3",
   "language": "python",
   "name": "python3"
  },
  "language_info": {
   "codemirror_mode": {
    "name": "ipython",
    "version": 3
   },
   "file_extension": ".py",
   "mimetype": "text/x-python",
   "name": "python",
   "nbconvert_exporter": "python",
   "pygments_lexer": "ipython3",
   "version": "3.7.5"
  }
 },
 "nbformat": 4,
 "nbformat_minor": 2
}
