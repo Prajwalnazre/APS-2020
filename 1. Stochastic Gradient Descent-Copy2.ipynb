{
 "cells": [
  {
   "cell_type": "code",
   "execution_count": 1,
   "metadata": {},
   "outputs": [],
   "source": [
    "# Make a prediction with coefficients\n",
    "import pylab\n",
    "import random\n",
    "from matplotlib import pyplot\n",
    "from sklearn.model_selection import train_test_split\n",
    "import numpy as np\n",
    "%matplotlib inline\n",
    "\n",
    "def predict(row, coefficients):\n",
    "    yhat = coefficients[0]\n",
    "    for i in range(len(row)-1):\n",
    "        yhat += coefficients[i + 1] * row[i] \n",
    "    return yhat"
   ]
  },
  {
   "cell_type": "code",
   "execution_count": 8,
   "metadata": {},
   "outputs": [],
   "source": [
    "# Estimate linear regression coefficients using stochastic gradient descent\n",
    "gobalCoef = []\n",
    "def coefficients_sgd(train, l_rate, n_epoch):\n",
    "    coef = [0.0 for i in range(len(train[0]))]\n",
    "    #print(coef)\n",
    "    errorArr = []\n",
    "    epochArr = []\n",
    "    for epoch in range(n_epoch):\n",
    "        sum_error = 0.0\n",
    "        epochArr.append(epoch)\n",
    "        for row in train:\n",
    "            yhat = predict(row, coef)\n",
    "            error = yhat - row[-1]\n",
    "            sum_error += error **2          \n",
    "            coef[0] = coef[0] - l_rate * error\n",
    "            for i in range(len(row)-1):\n",
    "                coef[i + 1] = coef[i + 1] - l_rate * error * row[i]\n",
    "                \n",
    "        globalCoef = coef\n",
    "        print(\"Updated Coefficients are \" + str(globalCoef))\n",
    "        errorArr.append(round(sum_error,5))\n",
    "        #diff = errorArr[epoch-1] - errorArr[epoch]\n",
    "        #print(\"Difference=\" + str(diff))\n",
    "        if epoch > 0 :\n",
    "            diff = errorArr[epoch-1] - errorArr[epoch]\n",
    "            print(\"Difference=\" + str(diff))\n",
    "            if diff < 0.0001 :\n",
    "                #print(diff)\n",
    "                print(\"Enough Epochs\")\n",
    "                break\n",
    "        print('>epoch=%d, lrate=%.3f, error=%.3f' % (epoch, l_rate, sum_error))\n",
    "    \n",
    "    print(\"Error = \" + str(errorArr[-1]))\n",
    "    pyplot.plot(epochArr,errorArr)\n",
    "    pyplot.show()\n",
    "    \n",
    "    return coef\n",
    "\n",
    "\n",
    "def coefficients_sgd_test(train, l_rate, n_epoch, coef1):\n",
    "    coef = coef1\n",
    "    #print(coef)\n",
    "    errorArr = []\n",
    "    epochArr = []\n",
    "    for epoch in range(n_epoch):\n",
    "        sum_error = 0.0\n",
    "        epochArr.append(epoch)\n",
    "        for row in train:\n",
    "            yhat = predict(row, coef)\n",
    "            error = yhat - row[-1]\n",
    "            sum_error += error **2          \n",
    "            coef[0] = coef[0] - l_rate * error\n",
    "            for i in range(len(row)-1):\n",
    "                coef[i + 1] = coef[i + 1] - l_rate * error * row[i]\n",
    "                \n",
    "        globalCoef = coef\n",
    "        print(\"Updated Coefficients are \" + str(globalCoef))\n",
    "        errorArr.append(round(sum_error,5))\n",
    "        #diff = errorArr[epoch-1] - errorArr[epoch]\n",
    "        #print(\"Difference=\" + str(diff))\n",
    "        if epoch > 0 :\n",
    "            diff = errorArr[epoch-1] - errorArr[epoch]\n",
    "            print(\"Difference=\" + str(diff))\n",
    "            if diff < 0.0001 :\n",
    "                #print(diff)\n",
    "                print(\"Enough Epochs\")\n",
    "                break\n",
    "        print('>epoch=%d, lrate=%.3f, error=%.3f' % (epoch, l_rate, sum_error))\n",
    "    \n",
    "    print(\"Error = \" + str(errorArr[-1]))\n",
    "    pyplot.plot(epochArr,errorArr)\n",
    "    pyplot.show()\n",
    "    \n",
    "    return coef"
   ]
  },
  {
   "cell_type": "code",
   "execution_count": 1,
   "metadata": {},
   "outputs": [],
   "source": [
    "import csv\n",
    "\n",
    "p=[]\n",
    "dataset=[]\n",
    "with open('1.txt') as csvfile:\n",
    "        reader = csv.reader(csvfile)\n",
    "        for row in reader:\n",
    "            x = float(row[0])\n",
    "            y = float(row[1])\n",
    "            p =[x,y]\n",
    "            dataset.append(p)       \n",
    "        random.shuffle(dataset)\n",
    "        \n",
    "        trainData ,testData = train_test_split(dataset,test_size=0.3)\n",
    "l_rate = 0.01\n",
    "n_epoch = 100\n",
    "\n",
    "coef = coefficients_sgd(trainData, l_rate, n_epoch)\n",
    "print(\"Training.............Done!\")\n",
    "\n",
    "globalCoef = coef\n",
    "print(\"Global Coef \" + str(globalCoef))\n",
    "\n",
    "testCoef = coefficients_sgd_test(testData,l_rate,n_epoch,globalCoef)\n",
    "print(\"Testing..............Done!\")"
   ]
  },
  {
   "cell_type": "code",
   "execution_count": 90,
   "metadata": {},
   "outputs": [
    {
     "data": {
      "image/png": "[encoded data removed]",
      "text/plain": [
       "<Figure size 432x288 with 1 Axes>"
      ]
     },
     "metadata": {
      "needs_background": "light"
     },
     "output_type": "display_data"
    },
    {
     "name": "stdout",
     "output_type": "stream",
     "text": [
      "[16.940289539012884, 0.0647825441704771]\n"
     ]
    }
   ],
   "source": [
    "samples=len(trainData)\n",
    "m=[]\n",
    "n=[]\n",
    "y_predict=[]\n",
    "for i in range(samples):\n",
    "    m.append(trainData[i][0])\n",
    "    n.append(trainData[i][1])\n",
    "    q=coef[0] + coef[1]*m[i]\n",
    "    y_predict.append(q)\n",
    "    \n",
    "\n",
    "pylab.plot(m,n,'o')\n",
    "pylab.plot(m,y_predict,'k-')\n",
    "pylab.show()\n",
    "print(coef)"
   ]
  },
  {
   "cell_type": "code",
   "execution_count": null,
   "metadata": {},
   "outputs": [],
   "source": []
  }
 ],
 "metadata": {
  "kernelspec": {
   "display_name": "Python 3",
   "language": "python",
   "name": "python3"
  },
  "language_info": {
   "codemirror_mode": {
    "name": "ipython",
    "version": 3
   },
   "file_extension": ".py",
   "mimetype": "text/x-python",
   "name": "python",
   "nbconvert_exporter": "python",
   "pygments_lexer": "ipython3",
   "version": "3.7.4"
  }
 },
 "nbformat": 4,
 "nbformat_minor": 2
}
