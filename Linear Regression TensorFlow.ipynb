{
 "cells": [
  {
   "cell_type": "code",
   "execution_count": 1,
   "metadata": {},
   "outputs": [],
   "source": [
    "import numpy as np \n",
    "import tensorflow as tf \n",
    "import matplotlib.pyplot as plt "
   ]
  },
  {
   "cell_type": "code",
   "execution_count": 2,
   "metadata": {},
   "outputs": [],
   "source": [
    "import numpy as np\n",
    "import matplotlib.pyplot as plt\n",
    "%matplotlib inline\n",
    "from sklearn.linear_model import LinearRegression\n",
    "from sklearn.metrics import mean_squared_error, r2_score\n",
    "import csv\n",
    "\n",
    "x=[]\n",
    "y=[]\n",
    "with open('foo1.txt') as csvfile:\n",
    "        reader = csv.reader(csvfile)\n",
    "        for row in reader:\n",
    "            xx = float(row[0])\n",
    "            yy = float(row[1])\n",
    "            p =[xx]\n",
    "            q =[yy]\n",
    "            x.append(p)\n",
    "            y.append(q)\n",
    "                        \n",
    "x=np.array(x)\n",
    "y=np.array(y)\n",
    "n = len(x)"
   ]
  },
  {
   "cell_type": "code",
   "execution_count": 5,
   "metadata": {},
   "outputs": [
    {
     "data": {
      "image/png": "[encoded data removed]",
      "text/plain": [
       "<Figure size 432x288 with 1 Axes>"
      ]
     },
     "metadata": {
      "needs_background": "light"
     },
     "output_type": "display_data"
    }
   ],
   "source": [
    "# Plot of Training Data \n",
    "plt.scatter(x, y) \n",
    "plt.xlabel('x') \n",
    "plt.xlabel('y') \n",
    "plt.title(\"Training Data\") \n",
    "plt.show() "
   ]
  },
  {
   "cell_type": "code",
   "execution_count": 6,
   "metadata": {},
   "outputs": [],
   "source": [
    "X = tf.placeholder(\"float\") \n",
    "Y = tf.placeholder(\"float\") "
   ]
  },
  {
   "cell_type": "code",
   "execution_count": 7,
   "metadata": {},
   "outputs": [],
   "source": [
    "W = tf.Variable(np.random.randn(), name = \"W\") \n",
    "b = tf.Variable(np.random.randn(), name = \"b\") \n",
    "#W = [45,21,32,45,4,32,4,10,30,55]\n",
    "#b = [24,33,45,65,78,25,12,32,52,32]"
   ]
  },
  {
   "cell_type": "code",
   "execution_count": 8,
   "metadata": {},
   "outputs": [
    {
     "name": "stdout",
     "output_type": "stream",
     "text": [
      "0.1111\n"
     ]
    }
   ],
   "source": [
    "learning_rate_Array = [0.1,0.2,0.12,0.123,0.654,0.5,0.015,0.065,0.951,0.1111]\n",
    "print(learning_rate_Array[9])\n",
    "training_epochs = 1000\n",
    "learning_rate = 0.1"
   ]
  },
  {
   "cell_type": "code",
   "execution_count": 11,
   "metadata": {},
   "outputs": [
    {
     "name": "stdout",
     "output_type": "stream",
     "text": [
      "0.1\n",
      "0.2\n",
      "0.12\n",
      "0.123\n",
      "0.654\n",
      "0.5\n",
      "0.015\n",
      "0.065\n",
      "0.951\n",
      "0.1111\n"
     ]
    }
   ],
   "source": [
    "# Hypothesis \n",
    "y_predArr = []\n",
    "cost_Arr = []\n",
    "cost = []\n",
    "#for i in range (0,10):\n",
    "y_pred = tf.add(tf.multiply(X, W), b) \n",
    "#y_predArr.append(y_pred)\n",
    "# Mean Squared Error Cost Function \n",
    "cost = tf.reduce_sum(tf.pow(y_pred-Y, 2)) / (2 * n) \n",
    "   # cost_Arr.append(cost)\n",
    "\n",
    "optimizerArr = []\n",
    "\n",
    "#np.array(optimizer)\n",
    "\n",
    "# Gradient Descent Optimizer \n",
    "for i in range (0,10):\n",
    "    print(learning_rate_Array[i])\n",
    "    optimizer = tf.train.GradientDescentOptimizer(learning_rate_Array[i]).minimize(cost) \n",
    "    optimizerArr.append(optimizer)\n",
    "#print(optimizer)\n",
    "        \n",
    "\n",
    "# Global Variables Initializer \n",
    "init = tf.global_variables_initializer() \n"
   ]
  },
  {
   "cell_type": "code",
   "execution_count": null,
   "metadata": {},
   "outputs": [],
   "source": [
    "# Starting the Tensorflow Session \n",
    "for i in range (0,10):\n",
    "    with tf.Session() as sess: \n",
    "        costArr = []\n",
    "        epochArr = []\n",
    "    # Initializing the Variables \n",
    "        sess.run(init) \n",
    "    \n",
    "    # Iterating through all the epochs \n",
    "        for epoch in range(training_epochs): \n",
    "        \n",
    "        # Feeding each data point into the optimizer using Feed Dictionary \n",
    "            for (_x, _y) in zip(x, y): \n",
    "                sess.run(optimizerArr[i], feed_dict = {X : _x, Y : _y})        \n",
    "            \n",
    "        # Displaying the result after every 50 epochs \n",
    "        #if (epoch + 1) % 50 == 0: \n",
    "            # Calculating the cost a every epoch \n",
    "                c = sess.run(cost, feed_dict = {X : x, Y : y}) \n",
    "                costArr.append(c)\n",
    "                epochArr.append(epoch)\n",
    "                diff = costArr[epoch] - costArr[epoch - 1]\n",
    "                #if diff < 0.001:\n",
    "                #    print(\"These iterations are enough!!\")\n",
    "                #    break;\n",
    "            print(\"Epoch\", (epoch + 1), \": cost =\", c, \"W =\", sess.run(W), \"b =\", sess.run(b)) \n",
    "    \n",
    "    # Storing necessary values to be used outside the Session \n",
    "        plt.plot(costArr,epochArr,'o')\n",
    "        training_cost = sess.run(cost, feed_dict ={X: x, Y: y}) \n",
    "        weight = sess.run(W) \n",
    "        bias = sess.run(b) \n",
    "\n"
   ]
  },
  {
   "cell_type": "code",
   "execution_count": null,
   "metadata": {},
   "outputs": [],
   "source": [
    "# Calculating the predictions \n",
    "predictions = weight * x + bias \n",
    "print(\"Training cost =\", training_cost, \"Weight =\", weight, \"bias =\", bias, '\\n') \n"
   ]
  },
  {
   "cell_type": "code",
   "execution_count": null,
   "metadata": {},
   "outputs": [],
   "source": [
    "# Plotting the Results \n",
    "plt.plot(x, y, 'ro', label ='Original data') \n",
    "plt.plot(x, predictions, label ='Fitted line') \n",
    "plt.title('Linear Regression Result') \n",
    "plt.legend() \n",
    "plt.show() \n"
   ]
  },
  {
   "cell_type": "code",
   "execution_count": null,
   "metadata": {},
   "outputs": [],
   "source": []
  },
  {
   "cell_type": "code",
   "execution_count": null,
   "metadata": {},
   "outputs": [],
   "source": []
  }
 ],
 "metadata": {
  "kernelspec": {
   "display_name": "Python 3",
   "language": "python",
   "name": "python3"
  },
  "language_info": {
   "codemirror_mode": {
    "name": "ipython",
    "version": 3
   },
   "file_extension": ".py",
   "mimetype": "text/x-python",
   "name": "python",
   "nbconvert_exporter": "python",
   "pygments_lexer": "ipython3",
   "version": "3.7.4"
  }
 },
 "nbformat": 4,
 "nbformat_minor": 2
}
