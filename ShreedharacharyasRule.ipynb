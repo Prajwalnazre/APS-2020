{
 "cells": [
  {
   "cell_type": "code",
   "execution_count": 2,
   "metadata": {},
   "outputs": [],
   "source": [
    "#Finding Roots of a Quadratic equation\n",
    "import math as m"
   ]
  },
  {
   "cell_type": "code",
   "execution_count": 3,
   "metadata": {},
   "outputs": [
    {
     "name": "stdout",
     "output_type": "stream",
     "text": [
      "Enter coefficient of x square1\n",
      "Enter coefficient of x15\n",
      "Enter the constant20\n"
     ]
    }
   ],
   "source": [
    "a = int(input(\"Enter coefficient of x square\"))\n",
    "b = int(input(\"Enter coefficient of x\"))\n",
    "c = int(input(\"Enter the constant\"))"
   ]
  },
  {
   "cell_type": "code",
   "execution_count": 4,
   "metadata": {},
   "outputs": [
    {
     "name": "stdout",
     "output_type": "stream",
     "text": [
      "X1 = -1.4792027106038521\n",
      "X2 = -13.520797289396148\n"
     ]
    }
   ],
   "source": [
    "x1 = (-b + m.sqrt(b*b - 4*a*c))/2*a\n",
    "print(\"X1 = \" + str(x1))\n",
    "\n",
    "x2 = (-b - m.sqrt(b*b - 4*a*c))/2*a\n",
    "print(\"X2 = \" + str(x2))\n"
   ]
  }
 ],
 "metadata": {
  "kernelspec": {
   "display_name": "Python 3",
   "language": "python",
   "name": "python3"
  },
  "language_info": {
   "codemirror_mode": {
    "name": "ipython",
    "version": 3
   },
   "file_extension": ".py",
   "mimetype": "text/x-python",
   "name": "python",
   "nbconvert_exporter": "python",
   "pygments_lexer": "ipython3",
   "version": "3.7.5"
  }
 },
 "nbformat": 4,
 "nbformat_minor": 2
}
