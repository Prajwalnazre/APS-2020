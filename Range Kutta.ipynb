{
 "cells": [
  {
   "cell_type": "code",
   "execution_count": 17,
   "metadata": {},
   "outputs": [],
   "source": [
    "import math as m"
   ]
  },
  {
   "cell_type": "code",
   "execution_count": 18,
   "metadata": {},
   "outputs": [],
   "source": [
    "# y(x + h) = y(x) + 1/6(F1 + 2F2 + 2F3 + F4)\n",
    "# F1 = h f(x, y)\n",
    "# F2 = h f(x + h/2, y + F1/2)\n",
    "# F3 = h f(x + h/2, y + F2/2)\n",
    "# F4 = h f(x + h, y + F3)"
   ]
  },
  {
   "cell_type": "code",
   "execution_count": 22,
   "metadata": {},
   "outputs": [],
   "source": [
    "# Equation to be solved is f(x, y) = (5x^2 - y)/(e^(x + y))\n",
    "def eqn(x,y):\n",
    "    x1 = (5 * x ** 2 - y)/( m.exp(x + y) ) \n",
    "    return x1"
   ]
  },
  {
   "cell_type": "code",
   "execution_count": 23,
   "metadata": {},
   "outputs": [],
   "source": [
    "# Initial values\n",
    "h = 0.1     # for 0 < x < 1\n",
    "hmax = 1\n",
    "x = 0\n",
    "y = 1"
   ]
  },
  {
   "cell_type": "code",
   "execution_count": 24,
   "metadata": {},
   "outputs": [
    {
     "name": "stdout",
     "output_type": "stream",
     "text": [
      "X = 0\t Y = 1\n",
      "X = 0.1\t Y = 0.9675505417867001\n",
      "X = 0.2\t Y = 0.942491368836324\n",
      "X = 0.30000000000000004\t Y = 0.9268251374697565\n",
      "X = 0.4\t Y = 0.921770460995246\n",
      "X = 0.5\t Y = 0.9277626427364765\n",
      "X = 0.6\t Y = 0.9445229710915267\n",
      "X = 0.7\t Y = 0.97119276171854\n",
      "X = 0.7999999999999999\t Y = 1.0065075641694476\n",
      "X = 0.8999999999999999\t Y = 1.0489787494665301\n"
     ]
    }
   ],
   "source": [
    "maxIter = int(hmax/h)\n",
    "\n",
    "for i in range(maxIter):\n",
    "    f1 = eqn(x,y)\n",
    "    F1 = h * f1\n",
    "    f2 = eqn(x + h, y + F1/2)\n",
    "    F2 = h * f2\n",
    "    f3 = eqn(x + h, y + F2/2)\n",
    "    F3 = h * f3\n",
    "    f4 = eqn(x + h, y + F3)\n",
    "    F4 = h * f4\n",
    "    print(\"X = \" + str(x) + \"\\t Y = \" + str(y))\n",
    "    y = y + 1/6 * (F1 + 2 * F2 + 2 * F3 + F4)\n",
    "    x = x + h\n",
    "    "
   ]
  }
 ],
 "metadata": {
  "kernelspec": {
   "display_name": "Python 3",
   "language": "python",
   "name": "python3"
  },
  "language_info": {
   "codemirror_mode": {
    "name": "ipython",
    "version": 3
   },
   "file_extension": ".py",
   "mimetype": "text/x-python",
   "name": "python",
   "nbconvert_exporter": "python",
   "pygments_lexer": "ipython3",
   "version": "3.7.5"
  }
 },
 "nbformat": 4,
 "nbformat_minor": 2
}
