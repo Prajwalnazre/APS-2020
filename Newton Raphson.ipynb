{
 "cells": [
  {
   "cell_type": "code",
   "execution_count": 3,
   "metadata": {},
   "outputs": [],
   "source": [
    "import math as m"
   ]
  },
  {
   "cell_type": "code",
   "execution_count": 4,
   "metadata": {},
   "outputs": [],
   "source": [
    "def eqn(x):\n",
    "    x1 = x - m.cos(x)    # f(x) = x - cos(x) \n",
    "    return x1"
   ]
  },
  {
   "cell_type": "code",
   "execution_count": 5,
   "metadata": {},
   "outputs": [],
   "source": [
    "def diffeqn(x):\n",
    "    x1 = 1 + m.sin(x)    # f'(x) = 1 + sin(x)\n",
    "    return x1"
   ]
  },
  {
   "cell_type": "code",
   "execution_count": 8,
   "metadata": {},
   "outputs": [
    {
     "name": "stdout",
     "output_type": "stream",
     "text": [
      "Enter the maximum iterations6\n",
      "Enter the initial approximation1\n",
      "X value in 0th iteration is 0.7503638678402439\n",
      "X value in 1th iteration is 0.7391128909113617\n",
      "X value in 2th iteration is 0.739085133385284\n",
      "X value in 3th iteration is 0.7390851332151607\n",
      "X value in 4th iteration is 0.7390851332151607\n",
      "X value in 5th iteration is 0.7390851332151607\n"
     ]
    }
   ],
   "source": [
    "maxIter = int(input(\"Enter the maximum iterations\"))\n",
    "x = int(input(\"Enter the initial approximation\"))\n",
    "e1 = eqn(x)\n",
    "e2 = diffeqn(x)\n",
    "\n",
    "\n",
    "for i in range (maxIter):\n",
    "    x = x - e1/e2\n",
    "    e1 = eqn(x)\n",
    "    e2 = diffeqn(x)\n",
    "    print(\"X value in \" + str(i) + \"th iteration is \" + str(x))\n",
    "    "
   ]
  }
 ],
 "metadata": {
  "kernelspec": {
   "display_name": "Python 3",
   "language": "python",
   "name": "python3"
  },
  "language_info": {
   "codemirror_mode": {
    "name": "ipython",
    "version": 3
   },
   "file_extension": ".py",
   "mimetype": "text/x-python",
   "name": "python",
   "nbconvert_exporter": "python",
   "pygments_lexer": "ipython3",
   "version": "3.7.5"
  }
 },
 "nbformat": 4,
 "nbformat_minor": 2
}
