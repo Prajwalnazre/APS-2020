{
 "cells": [
  {
   "cell_type": "code",
   "execution_count": 42,
   "metadata": {},
   "outputs": [],
   "source": [
    "import numpy as np\n",
    "import pandas as pd\n",
    "import random\n",
    "import pylab\n",
    "from scipy import stats\n",
    "from mpl_toolkits.mplot3d import Axes3D\n",
    "import matplotlib as mpl\n",
    "import matplotlib.pyplot as plt\n",
    "from sklearn.model_selection import train_test_split\n",
    "import numpy as np\n",
    "import random\n",
    "import csv"
   ]
  },
  {
   "cell_type": "code",
   "execution_count": 43,
   "metadata": {},
   "outputs": [],
   "source": [
    "def compute_cost_function(m, t0, t1, trainX, trainY):\n",
    "  return 1/2/m * sum([(t0 + t1* np.asarray([trainX[i]]) - trainY[i])**2 for i in range(m)])\n",
    "\n",
    "globalError = []"
   ]
  },
  {
   "cell_type": "code",
   "execution_count": 18,
   "metadata": {},
   "outputs": [],
   "source": [
    "def gradient_descent_test(alpha, x, y, ep, max_iter, theta0, theta1):\n",
    "    jArr = []\n",
    "    converged = False\n",
    "    iter = 0\n",
    "    m = x.shape[0] # number of samples\n",
    "    \n",
    "    # initial theta\n",
    "    t0 = theta0\n",
    "    t1 = theta1\n",
    "\n",
    "    # total error, J(theta)\n",
    "    J = compute_cost_function(m, t0, t1, x, y)\n",
    "    print('J=', J);\n",
    "    # Iterate Loop\n",
    "    num_iter = 0\n",
    "    while not converged:\n",
    "        # for each training sample, compute the gradient (d/d_theta j(theta))\n",
    "        grad0 = 1.0/m * sum([(t0 + t1*np.asarray([x[i]]) - y[i]) for i in range(m)]) \n",
    "        grad1 = 1.0/m * sum([(t0 + t1*np.asarray([x[i]]) - y[i])*np.asarray([x[i]]) for i in range(m)])\n",
    "\n",
    "        # update the theta_temp\n",
    "        temp0 = t0 - alpha * grad0\n",
    "        temp1 = t1 - alpha * grad1\n",
    "    \n",
    "        # update theta\n",
    "        t0 = temp0\n",
    "        t1 = temp1\n",
    "\n",
    "        # mean squared error\n",
    "        e = compute_cost_function(m, t0, t1, x, y)\n",
    "        print ('J = ', e)\n",
    "        J = e   # update error \n",
    "        iter += 1  # update iter\n",
    "        jArr.append(J)\n",
    "        if iter == max_iter:\n",
    "            print ('Max interactions exceeded!')\n",
    "            converged = True\n",
    "    \n",
    "    print(\"Error = \" + str(jArr[-1]))\n",
    "    return t0,t1\n",
    "\n"
   ]
  },
  {
   "cell_type": "markdown",
   "metadata": {},
   "source": [
    " "
   ]
  },
  {
   "cell_type": "code",
   "execution_count": 24,
   "metadata": {},
   "outputs": [],
   "source": [
    "def plot_cost_function(x, y, m):\n",
    "    t0 = list(range(0, x.shape[0]))\n",
    "    j_values = []\n",
    "    for i in range(len(t0)):\n",
    "        j_values.append(compute_cost_function(m, i, i, x, y)[0])\n",
    "    print ('j_values', len(j_values), len(x), len(y))\n",
    "    fig = plt.figure()\n",
    "    ax = fig.gca(projection='3d')\n",
    "    ax.plot(x, y, j_values, label='parametric curve')\n",
    "    ax.legend()\n",
    "    plt.show()"
   ]
  },
  {
   "cell_type": "code",
   "execution_count": 1,
   "metadata": {},
   "outputs": [],
   "source": [
    "if __name__ == '__main__':\n",
    "    p=[]\n",
    "    dataset=[]\n",
    "    with open('1.txt') as csvfile:\n",
    "        reader = csv.reader(csvfile)\n",
    "        for row in reader:\n",
    "            x = float(row[0])\n",
    "            y = float(row[1])\n",
    "            p =[x,y]\n",
    "            dataset.append(p)       \n",
    "        random.shuffle(dataset)\n",
    "        \n",
    "        trainData ,testData = train_test_split(dataset,test_size=0.7)\n",
    "        \n",
    "        for row2 in trainData:\n",
    "            trainX = float(row2[0])\n",
    "            trainY = float(row2[1])\n",
    "            \n",
    "        for row3 in testData:\n",
    "            testX = float(row3[0])\n",
    "            testY = float(row3[1])\n",
    "  \n",
    "    df = pd.read_csv('1.txt', names=['x','y'])\n",
    "    df = np.array(df)\n",
    "    x = df['x']\n",
    "    y = df['y']\n",
    "    \n",
    "    print(x)\n",
    "    \n",
    "    trainX ,testX = train_test_split(x,test_size = 0.3)\n",
    "    trainY ,testY = train_test_split(y,test_size = 0.3)\n",
    "    \n",
    "    trainX = np.array(trainX)\n",
    "    trainY = np.array(trainY)\n",
    "    testX = np.array(testX)\n",
    "    testY = np.array(testY)\n",
    "    \n",
    "    print(trainX)\n",
    "    split_factor = 0.7\n",
    "    split = int(split_factor * df.shape[0])\n",
    "    trainX = df[:split,:-1]\n",
    "    trainY = df[:split,-1].reshape((1,-1))\n",
    "    testX = df[split:,:-1]\n",
    "    testY = df[split:,-1].reshape((1,-1))\n",
    "    \n",
    "    \n",
    "    alpha = 0.01 # learning rate\n",
    "    ep = 0.0001 # convergence criteria\n",
    "    max_iter = 1000\n",
    "    # call gredient decent, and get intercept(=theta0) and slope(=theta1)\n",
    "    theta0, theta1 = gradient_descent(alpha, trainX, trainY, ep, max_iter)\n",
    "    theta0, theta1 = gradient_descent(alpha, x, y, ep, max_iter=1000)\n",
    "    print ('theta0 = ' + str(theta0)+' theta1 = '+str(theta1))\n",
    "    plot_cost_function(x, y, x.shape[0])\n",
    "\n",
    "    # plot\n",
    "    #for i in range(trainX.shape[0]):\n",
    "    for i in range(len(trainX)):\n",
    "        y_predict = theta0 + theta1*trainX \n",
    "\n",
    "    pylab.plot(trainX,trainY,'o')\n",
    "    pylab.plot(trainX,y_predict,'k-')\n",
    "    pylab.show()\n",
    "    print (\"Done!\")\n",
    "    \n",
    "    testTheta0, testTheta1 = gradient_descent_test(alpha, testX, testY, ep, max_iter,theta0 ,theta1)\n",
    "    print ('theta0 = ' + str(testTheta0)+' theta1 = '+str(testTheta1))\n",
    "    \n",
    "    for j in range(testX.shape[0]):\n",
    "        y_predict1 = testTheta0 + testTheta1*testX\n",
    "    \n",
    "    pylab.plot(testX,testY,'o')\n",
    "    pylab.plot(testX,y_predict1,'k-')\n",
    "    pylab.show()"
   ]
  },
  {
   "cell_type": "markdown",
   "metadata": {},
   "source": [
    " "
   ]
  },
  {
   "cell_type": "markdown",
   "metadata": {},
   "source": [
    " "
   ]
  },
  {
   "cell_type": "markdown",
   "metadata": {},
   "source": [
    " "
   ]
  }
 ],
 "metadata": {
  "kernelspec": {
   "display_name": "Python 3",
   "language": "python",
   "name": "python3"
  },
  "language_info": {
   "codemirror_mode": {
    "name": "ipython",
    "version": 3
   },
   "file_extension": ".py",
   "mimetype": "text/x-python",
   "name": "python",
   "nbconvert_exporter": "python",
   "pygments_lexer": "ipython3",
   "version": "3.7.4"
  }
 },
 "nbformat": 4,
 "nbformat_minor": 2
}
